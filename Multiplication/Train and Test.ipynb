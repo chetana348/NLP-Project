{
 "cells": [
  {
   "cell_type": "code",
   "execution_count": null,
   "id": "9db9c62f",
   "metadata": {},
   "outputs": [],
   "source": [
    "!pip install pytorch_lightning==1.9.0\n",
    "import main\n",
    "import pytorch_lightning as pl\n",
    "from pytorch_lightning.callbacks import ModelCheckpoint\n"
   ]
  },
  {
   "cell_type": "markdown",
   "id": "3ad8763c",
   "metadata": {},
   "source": [
    "# Training"
   ]
  },
  {
   "cell_type": "code",
   "execution_count": null,
   "id": "5520bfd9",
   "metadata": {},
   "outputs": [],
   "source": [
    "m = main.Model()\n",
    "trainer = pl.Trainer(accelerator='gpu', devices=1, accumulate_grad_batches=8,callbacks=ModelCheckpoint())\n",
    "trainer.fit(m)"
   ]
  },
  {
   "cell_type": "markdown",
   "id": "afea00c7",
   "metadata": {},
   "source": [
    "# Testing"
   ]
  },
  {
   "cell_type": "code",
   "execution_count": null,
   "id": "00b9f29f",
   "metadata": {},
   "outputs": [],
   "source": [
    "m = main.Model.load_from_checkpoint('best_model.ckpt')\n",
    "m.eval()\n",
    "while True:\n",
    "    expr = input(\"Enter a prompt in the format xxxxx*xxxxx: \")\n",
    "    curi = 0\n",
    "    past = None\n",
    "    max_length = 1024\n",
    "    print(expr, end=\"\", flush=True)\n",
    "    with torch.no_grad():\n",
    "        while len(expr) < max_length:\n",
    "            cur = torch.tensor([bytearray(expr[curi:], 'ascii')], dtype=torch.long)\n",
    "            probs, past = m.model(cur, past=past)\n",
    "            curi = len(expr)\n",
    "            probs = F.softmax(probs[0, -1], dim=-1)\n",
    "            sample = torch.multinomial(probs, 1)[0]\n",
    "            expr += chr(sample)\n",
    "            print(chr(sample), end=\"\", flush=True)\n",
    "            if sample == ord('$'):\n",
    "                print(\"\")\n",
    "                break"
   ]
  }
 ],
 "metadata": {
  "kernelspec": {
   "display_name": "Python 3 (ipykernel)",
   "language": "python",
   "name": "python3"
  },
  "language_info": {
   "codemirror_mode": {
    "name": "ipython",
    "version": 3
   },
   "file_extension": ".py",
   "mimetype": "text/x-python",
   "name": "python",
   "nbconvert_exporter": "python",
   "pygments_lexer": "ipython3",
   "version": "3.9.13"
  }
 },
 "nbformat": 4,
 "nbformat_minor": 5
}
